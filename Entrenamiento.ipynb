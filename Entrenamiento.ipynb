{
 "cells": [
  {
   "cell_type": "code",
   "execution_count": null,
   "id": "05b415ee-f0e6-4324-8da2-6162cc3a8c4d",
   "metadata": {
    "ExecuteTime": {
     "end_time": "2025-01-22T06:22:40.740465Z",
     "start_time": "2025-01-22T06:22:38.783764Z"
    }
   },
   "outputs": [],
   "source": []
  },
  {
   "cell_type": "code",
   "execution_count": null,
   "id": "44532397-735f-4af8-881f-fd7ddf7adad2",
   "metadata": {
    "ExecuteTime": {
     "end_time": "2025-01-24T00:13:01.771969Z",
     "start_time": "2025-01-24T00:13:01.614903Z"
    }
   },
   "outputs": [],
   "source": []
  },
  {
   "cell_type": "code",
   "execution_count": 36,
   "id": "a112962f-d05e-42b9-b6d3-a88ad5f68794",
   "metadata": {
    "ExecuteTime": {
     "end_time": "2025-02-09T05:56:11.114401Z",
     "start_time": "2025-02-09T05:56:10.121515Z"
    }
   },
   "outputs": [],
   "source": [
    "import h5py\n",
    "import numpy as np\n",
    "import scipy as sp\n",
    "\n",
    "import matplotlib.pyplot as plt\n",
    "import matplotlib.pylab as pylab\n",
    "import pathlib\n",
    "\n",
    "from obspy.signal.filter import bandpass\n",
    "import scipy\n",
    "\n",
    "from scipy import signal\n",
    "\n",
    "from scipy.signal import hilbert\n",
    "\n",
    "from scipy.io import savemat\n",
    "\n",
    "\n",
    "\n",
    "from scipy.signal import detrend\n",
    "\n",
    "from scipy.fft import fft\n",
    "\n",
    "import random\n",
    "\n",
    "\n",
    "import tensorflow as tf\n",
    "from tensorflow import keras\n",
    "\n",
    "from tensorflow.keras import regularizers"
   ]
  },
  {
   "cell_type": "code",
   "execution_count": 3,
   "id": "aeb10333-2755-4ae1-920f-044dc9dd5716",
   "metadata": {
    "ExecuteTime": {
     "end_time": "2025-01-24T00:13:51.699873Z",
     "start_time": "2025-01-24T00:13:51.693279Z"
    }
   },
   "outputs": [],
   "source": [
    "import tensorflow as tf\n",
    "\n",
    "from tensorflow.keras import datasets, layers, models\n",
    "import matplotlib.pyplot as plt\n",
    "\n",
    "\n",
    "from keras.models import Sequential\n",
    "from keras.layers import Activation, Dropout, Flatten, Dense\n",
    "from keras.layers import Input, Dense, Activation, BatchNormalization, Flatten, Conv2D\n",
    "from keras.layers import AveragePooling2D, MaxPooling2D, Dropout, GlobalAveragePooling2D\n",
    "from keras.models import Model\n",
    "\n",
    "\n",
    "from keras.optimizers import Adam\n"
   ]
  },
  {
   "cell_type": "code",
   "execution_count": 4,
   "id": "892e0036-0b0c-41cf-a753-a4cead36e5ac",
   "metadata": {
    "ExecuteTime": {
     "end_time": "2025-01-24T00:13:51.708457Z",
     "start_time": "2025-01-24T00:13:51.702897Z"
    }
   },
   "outputs": [],
   "source": []
  },
  {
   "cell_type": "code",
   "execution_count": null,
   "id": "24159f2e-8d39-4095-a446-7ed826cfe06c",
   "metadata": {},
   "outputs": [],
   "source": [
    "#### Normalizaciones"
   ]
  },
  {
   "cell_type": "code",
   "execution_count": 28,
   "id": "19774a70-0921-4894-b711-a123b2e302a0",
   "metadata": {
    "ExecuteTime": {
     "end_time": "2025-02-09T05:42:24.040326Z",
     "start_time": "2025-02-09T05:42:24.031867Z"
    }
   },
   "outputs": [],
   "source": [
    "def oneBit(value):\n",
    "    \n",
    "    if value<=0:\n",
    "        return -1\n",
    "\n",
    "    else:\n",
    "        return 1"
   ]
  },
  {
   "cell_type": "code",
   "execution_count": 29,
   "id": "63c218cf",
   "metadata": {
    "ExecuteTime": {
     "end_time": "2025-02-09T05:42:34.315461Z",
     "start_time": "2025-02-09T05:42:34.308796Z"
    }
   },
   "outputs": [],
   "source": [
    "OB = np.vectorize(oneBit)   "
   ]
  },
  {
   "cell_type": "code",
   "execution_count": 30,
   "id": "b23d88d2",
   "metadata": {
    "ExecuteTime": {
     "end_time": "2025-02-09T05:42:47.227322Z",
     "start_time": "2025-02-09T05:42:47.216688Z"
    }
   },
   "outputs": [],
   "source": []
  },
  {
   "cell_type": "code",
   "execution_count": 31,
   "id": "f657f594",
   "metadata": {
    "ExecuteTime": {
     "end_time": "2025-02-09T05:43:04.110375Z",
     "start_time": "2025-02-09T05:43:04.102014Z"
    }
   },
   "outputs": [],
   "source": [
    "## data.shape[0] canales\n",
    "## data.shape[1] tiempos\n",
    "## normalizar trazas por desviación estándar de cada traza\n",
    "def stdTrace(data):\n",
    "    dataCP = data.copy()\n",
    "    for i in range(0,data.shape[0]):\n",
    "        dataCP[i,:] = dataCP[i,:]/(dataCP[i,:]).std()\n",
    "        \n",
    "    return dataCP\n",
    "    \n",
    "    "
   ]
  },
  {
   "cell_type": "code",
   "execution_count": 32,
   "id": "41462eb6",
   "metadata": {
    "ExecuteTime": {
     "end_time": "2025-02-09T05:43:13.444309Z",
     "start_time": "2025-02-09T05:43:13.435008Z"
    }
   },
   "outputs": [],
   "source": []
  },
  {
   "cell_type": "code",
   "execution_count": 33,
   "id": "ad426539",
   "metadata": {
    "ExecuteTime": {
     "end_time": "2025-02-09T05:43:29.232602Z",
     "start_time": "2025-02-09T05:43:29.223519Z"
    }
   },
   "outputs": [],
   "source": [
    "\n",
    "def compM(data,coef=2):\n",
    "    #dataCpy = data.copy()\n",
    "    #for traza in dataCpy:\n",
    "    #Max = np.abs(data).max()\n",
    "    #data = np.sign(data)*np.log(1+(10**coef)*np.abs(data)/Max)\n",
    "    data = np.sign(data)*np.log(1+(10**coef)*np.abs(data))\n",
    "    Max = np.abs(data).max()\n",
    "    data = data/Max\n",
    "    #dataCpy = np.log(1+(10**coef)*np.abs(data)/Max)\n",
    "    return data"
   ]
  },
  {
   "cell_type": "code",
   "execution_count": 34,
   "id": "55b3348b",
   "metadata": {
    "ExecuteTime": {
     "end_time": "2025-02-09T05:44:47.404714Z",
     "start_time": "2025-02-09T05:44:47.391235Z"
    }
   },
   "outputs": [],
   "source": [
    "\n",
    "def RMScomp(X):\n",
    "    A = X.copy()\n",
    "    for i,traza in enumerate(A):\n",
    "        rmsA = np.std((np.array(traza)))#rmsValue()\n",
    "        filtered_list = traza.copy()\n",
    "        rmsA = 10          \n",
    "        rmsP = np.std((np.array(filtered_list)))\n",
    "\n",
    "        while np.abs(rmsA - rmsP) >=1e-2:\n",
    "            \n",
    "            rmsP=rmsA\n",
    "            filtered_list = filtered_list[np.abs(filtered_list-np.mean(filtered_list)) < 3*rmsP]\n",
    "            \n",
    "            rmsA = np.std((np.array(filtered_list)))\n",
    "            \n",
    "        A[i] = A[i]/rmsP\n",
    "    return A"
   ]
  },
  {
   "cell_type": "code",
   "execution_count": 27,
   "id": "50109346",
   "metadata": {
    "ExecuteTime": {
     "end_time": "2025-02-09T01:50:14.596736Z",
     "start_time": "2025-02-09T01:50:14.585505Z"
    }
   },
   "outputs": [],
   "source": [
    "##### Sismos empleados para entrenamiento y validación"
   ]
  },
  {
   "cell_type": "code",
   "execution_count": null,
   "id": "f6d2acd0",
   "metadata": {},
   "outputs": [],
   "source": [
    "fl1 = [\"/StorageCitlalli/DAS/DataCDMX/2023/111/SR_DS_2023-04-21_16-31-12_UTC.h5\", (526 - 0.5,536),(0,1100),[19.363,-99.177],665]#[19.363,-99.177] #0 #665 metros a la fibra\n",
    "fl2 = [\"/StorageCitlalli/DAS/DataCDMX/2023/110/SR_DS_2023-04-20_21-01-12_UTC.h5\", (193,206), (0,1100),[19.362,-99.173],235]# #1 #235 metros a la fibra \n",
    "fl3 = [\"/StorageCitlalli/DAS/DataCDMX/2023/101/SR_DS_2023-04-11_03-57-09_UTC.h5\", (304.5,311),(500,1500),[19.428,-99.178],3350]#2 ## 3350 metros a la fibra \n",
    "fl4 = [\"/StorageCitlalli/DAS/DataCDMX/2023/89/SR_DS_2023-03-30_00-44-42_UTC.h5\", (368-0.5,374),(0,1000),[19.366,-99.183],1370]#3 ## 1370 metros hacia la fibra\n",
    "fl5 = [\"/StorageCitlalli/DAS/DataCDMX/2023/88/SR_DS_2023-03-29_21-24-42_UTC.h5\", (131-0.4,137),(0,1000),[19.361,-99.177],580]#4 ## 580 metros a la fibra \n",
    "fl6 = [\"/StorageCitlalli/DAS/DataCDMX/2023/88/SR_DS_2023-03-29_18-14-42_UTC.h5\", (171-0.5,177),(0,1000),[19.358,-99.175],240]#5 ## 240 metros a la fibra \n",
    "fl7 = [\"/StorageCitlalli/DAS/DataCDMX/2023/88/SR_DS_2023-03-29_13-24-42_UTC.h5\", (584,590),(0,1000),[19.364082397377704,-99.183099866825570],1300]#6\n",
    "fl10 = [\"/StorageCitlalli/DAS/DataCDMX/2023/74/SR_DS_2023-03-15_10-12-13_UTC.h5\", (555,570),(1000,2000),[19.358199637063734,-99.084083080089070],293]#7 ## Verificar tiempo\n",
    "\n",
    "fl11 = [\"/StorageCitlalli/DAS/DataCDMX/2023/74/SR_DS_2023-03-15_09-42-13_UTC.h5\", (382,400),(1000,2000),[19.353782577578595,-99.086009099302600], 237]#8 # Verificar tiempo. Cambiar tiempo a 380 segundos y mover ventana en espacio a 1200-2200 canales \n",
    "\n",
    " \n",
    "fl12 = [\"/StorageCitlalli/DAS/DataCDMX/2023/65/SR_DS_2023-03-06_22-43-54_UTC.h5\", (412-0.5,418),(0,1000),[19.364,-99.19],1860]#9 ### 1860 metros a la fibra \n",
    "\n",
    "\n",
    "fl13 = [\"/StorageCitlalli/DAS/DataCDMX/2023/57/SR_DS_2023-02-26_01-02-57_UTC.h5\", (314-0.25,320),(0,1000),[19.359,-99.182],869]#10 #  869metros a la fibra\n",
    "fl14 = [\"/StorageCitlalli/DAS/DataCDMX/2023/54/SR_DS_2023-02-23_02-28-41_UTC.h5\", (376,390),(1000,2000), [19.379588860184597,-99.106247307175750], 347 ]#11 ## 347 metros a la fibra\n",
    "fl73 = [\"/StorageCitlalli/DAS/DataCDMX/2023/53/SR_DS_2023-02-22_00-18-41_UTC.h5\",(150+0.25,156),(0,1000),[19.364621960336606,-99.184510181015540],1460 ]#12 ## 1460 metros a la fibra \n",
    "fl16_0 = [\"/StorageCitlalli/DAS/DataCDMX/2023/52/SR_DS_2023-02-21_22-48-41_UTC.h5\", (31,40), (1150,2000),[19.386392234002237,-99.092788675449170], 1940]#13 ## 1940 metros a la fibra \n",
    "fl16 = [\"/StorageCitlalli/DAS/DataCDMX/2023/52/SR_DS_2023-02-21_22-48-41_UTC.h5\", (239,256), (1150,2000),[19.381094915634876,-99.093042749728800],1720]#14 ### 1720 metros a laa fibra\n",
    "fl17 = [\"/StorageCitlalli/DAS/DataCDMX/2023/52/SR_DS_2023-02-21_22-48-41_UTC.h5\", (558,576),(1150,2000),[19.383509771578456,-99.092875480098800],1820]#15 ## 1820 metros a la fibra\n",
    "fl19 = [\"/StorageCitlalli/DAS/DataCDMX/2023/39/SR_DS_2023-02-08_16-09-38_UTC.h5\", (397,403),(100,1000),[19.362160961821193,-99.176219015230200],554 ]#16\n",
    "\n",
    "\n",
    "fl72 = [\"/StorageCitlalli/DAS/DataCDMX/2023/122/SR_DS_2023-05-02_02-32-34_UTC.h5\",(172,178),(100,1000),[19.366,-99.176],710] ## 17  710 metros a la fibra\n",
    "fl71 = [\"/StorageCitlalli/DAS/DataCDMX/2023/122/SR_DS_2023-05-02_04-42-34_UTC.h5\",(493,499),(150,1000),[19.365,-99.157],1040] ###18  1040 metros\n",
    "fl74 = ['/StorageCitlalli/DAS/DataCDMX/2023/53/SR_DS_2023-02-22_00-18-41_UTC.h5',(139.5,145.5),(50,1000),[19.361087826769563,-99.176073084584120],494]#19 ## 494 metros a la fibra\n",
    "\n",
    "fl20 = [\"/StorageCitlalli/DAS/DataCDMX/2023/38/SR_DS_2023-02-07_14-38-00_UTC.h5\", (519,530),(0,1500),[19.359407876096930,-99.179649737792220],721]#20 ### 721 metros a la fibra\n",
    "### Falta archivo de movimiento de hipocentros para:\n",
    "fl21 = [\"/StorageCitlalli/DAS/DataCDMX/2023/38/SR_DS_2023-02-07_14-28-00_UTC.h5\", (529-0.75,539), (50,1000), [19.358919766724814,-99.175783156864600], 370]## 21 ##370 metros a la fibra \n",
    "\n",
    "fl22 = [\"/StorageCitlalli/DAS/DataCDMX/2023/29/SR_DS_2023-01-29_18-46-18_UTC.h5\", (174-0.15,184),(150,1000),[19.357,-99.155],1670]## 22 ##  1670 \n",
    "\n",
    "\n",
    "fl23 = [\"/StorageCitlalli/DAS/DataCDMX/2023/28/SR_DS_2023-01-28_15-20-55_UTC.h5\", (296,303),(500,1500),[19.379,-99.156],330]## 23 ## 330 \n",
    "fl24 = [\"/StorageCitlalli/DAS/DataCDMX/2023/19/SR_DS_2023-01-19_08-51-17_UTC.h5\", (584-1,594),(0,2000),[19.257342708319880,-99.205461421508820],7730]#24 ##7730 metros a la fibra \n",
    "\n",
    "fl25 = [\"/StorageCitlalli/DAS/DataCDMX/2023/17/SR_DS_2023-01-17_09-05-04_UTC.h5\", (229,235),(120,1000), [19.368982375562820,-99.175675109699140], 874]#25 ## 874 metros a la fibra \n",
    "\n",
    "fl26 = [\"/StorageCitlalli/DAS/DataCDMX/2023/11/SR_DS_2023-01-11_15-24-39_UTC.h5\", (100,106),(0,1000),[19.343,-99.181],47]#26 ## 47metros a la fibra \n",
    "\n",
    "fl27 = [\"/StorageCitlalli/DAS/DataCDMX/2022/358/SR_DS_2022-12-24_20-11-44_UTC.h5\", (558,562),(100,1000),[19.367230189174574,-99.185837488999350],1700]#27  ## 1700 metros a la fibra \n",
    "\n",
    "fl28 = [\"/StorageCitlalli/DAS/DataCDMX/2022/351/SR_DS_2022-12-17_02-34-13_UTC.h5\", (21-0.3,27),(200,1100),[19.369,-99.157],804]#28 # 804  ### __Revisar tiempos__ REVISADO\n",
    "\n",
    "fl29 = [\"/StorageCitlalli/DAS/DataCDMX/2022/349/SR_DS_2022-12-15_12-24-13_UTC.h5\", (47+0.25,53),(100,1000),[19.368,-99.177],918]#29  #  918  ## __Verificar tiempo, parece estar mal__ REVISADO\n",
    "\n",
    "\n",
    "fl30 = [\"/StorageCitlalli/DAS/DataCDMX/2022/342/SR_DS_2022-12-08_07-28-45_UTC.h5\", (502-0.25,508),(100,800),[19.372,-99.189],2230]#30 ## 2230\n",
    "\n",
    "fl31 = [\"/StorageCitlalli/DAS/DataCDMX/2022/342/SR_DS_2022-12-08_03-08-45_UTC.h5\", (232,240),(400,1500) , [19.391527626181460, -99.162871642072570], 678]#31 ## 678 metros a la fibra    \n",
    "\n",
    "fl32 = [\"/StorageCitlalli/DAS/DataCDMX/2022/336/SR_DS_2022-12-02_20-41-22_UTC.h5\", (35-0.3,43),(200,1000),[19.364,-99.178],807]#32 # 807\n",
    "\n",
    "\n",
    "fl34 = [\"/StorageCitlalli/DAS/DataCDMX/2022/299/SR_DS_2022-10-26_12-09-01_UTC.h5\", (117-0.5,123),(100,1000),[19.368,-99.172],488]#33 # 488\n",
    "fl35 = [\"/StorageCitlalli/DAS/DataCDMX/2022/292/SR_DS_2022-10-19_03-48-03_UTC.h5\", (191-0.25,197),(450,1400),[19.399,-99.162],650]#34  #650 \n",
    "\n",
    "\n",
    "fl37 = [\"/StorageCitlalli/DAS/DataCDMX/2022/206/SR_DS_2022-07-25_18-13-31_UTC.h5\", (252,258),(100,1000),[19.366,-99.181],1180]#36 #1180  <<\n",
    "fl39 = [\"/StorageCitlalli/DAS/DataCDMX/2022/155/SR_DS_2022-06-04_04-07-53_UTC.h5\", (294+1,302), (0,2000),[19.446098070773672,-99.105705004952980],4020]#37 ### 4020 metros a la fibra \n",
    "fl40 = [\"/StorageCitlalli/DAS/DataCDMX/2022/151/SR_DS_2022-05-31_15-13-17_UTC.h5\", (88,94),(400,1000),[19.392,-99.165],904]#38  904\n",
    "fl41 = [\"/StorageCitlalli/DAS/DataCDMX/2022/148/SR_DS_2022-05-28_16-30-55_UTC.h5\", (476-0.25,482),(400,1500),[19.39,-99.166],980]#39  980\n",
    "fl42 =  [\"/StorageCitlalli/DAS/DataCDMX/2022/148/SR_DS_2022-05-28_09-20-52_UTC.h5\", (588,596), (100,1100),[19.37,-99.182],1480]#40  1480\n",
    "fl43 = [\"/StorageCitlalli/DAS/DataCDMX/2022/146/SR_DS_2022-05-26_07-00-52_UTC.h5\", (359-0.25,365),(100,1100),[19.255,-99.372],21000] #41  21000\n",
    "fl44 = [\"/StorageCitlalli/DAS/DataCDMX/2023/38/SR_DS_2023-02-07_14-48-00_UTC.h5\", (348+1.2,354),(0,1100),[19.365,-99.184],1430] #42  1430   <<--\n",
    "\n",
    "fl45 = [\"/StorageCitlalli/DAS/DataCDMX/2023/154/SR_DS_2023-06-03_01-10-47_UTC.h5\",(78-0.25,84),(100,1100),[19.371,-99.177],1100]#43   ## 1100 metros \n",
    "fl46 = [\"/StorageCitlalli/DAS/DataCDMX/2023/153/SR_DS_2023-06-02_11-26-45_UTC.h5\",(174-0.25,180),(100,1100)]#45 ##  ## no hay localizacion en .loc ni en Pick\n",
    "\n",
    "fl47 = [\"/StorageCitlalli/DAS/DataCDMX/2023/151/SR_DS_2023-05-31_11-56-40_UTC.h5\",(228-0.25,234),(650,1500),[19.421,-99.138],1220]#46 ## 1220 metros\n",
    "fl48 = [\"/StorageCitlalli/DAS/DataCDMX/2023/149/SR_DS_2023-05-29_10-26-40_UTC.h5\",(124-0.25,130),(600,1000),[19.401,-99.137],754]## 754 metros \n",
    "fl49 = [\"/StorageCitlalli/DAS/DataCDMX/2023/142/SR_DS_2023-05-22_08-43-04_UTC.h5\",(165-0.25,171),(0,700),[19.712,-98.741],52200]# 5 #### 52200 metros de distancia a la fibra\n",
    "fl50 = [\"/StorageCitlalli/DAS/DataCDMX/2023/142/SR_DS_2023-05-22_08-23-04_UTC.h5\",(451-0.25,457),(0,700),[19.545,-98.824],34300]#3 ##### 34300 m (34.3 km) distancia a la fibra\n",
    "fl51 = [\"/StorageCitlalli/DAS/DataCDMX/2023/142/SR_DS_2023-05-22_08-13-04_UTC.h5\",(424-0.25,430),(0,1000),[19.487,-98.979],17000] #2  #####17000m (17 km) distancia a la fibra \n",
    "fl52 = [\"/StorageCitlalli/DAS/DataCDMX/2023/142/SR_DS_2023-05-22_05-03-04_UTC.h5\",(150-0.25,156),(100,1000),[19.370877178960683,-99.178125335647550],1210 ] \n",
    "fl53 = [\"/StorageCitlalli/DAS/DataCDMX/2023/137/SR_DS_2023-05-17_04-02-13_UTC.h5\",(412-0.25,418),(100,1000),[19.37,-99.184],1660]## 1660 metros \n",
    "fl54 = [\"/StorageCitlalli/DAS/DataCDMX/2023/136/SR_DS_2023-05-16_10-42-13_UTC.h5\",(500-0.6,506),(100,1000),[19.366,-99.178],897]## 897 metros \n",
    "fl55 = [\"/StorageCitlalli/DAS/DataCDMX/2023/135/SR_DS_2023-05-15_08-42-13_UTC.h5\",(222-0.25,228),(0,1000),[19.367,-99.192],2250]## 2250 metros \n",
    "fl56 = [\"/StorageCitlalli/DAS/DataCDMX/2023/135/SR_DS_2023-05-15_00-32-13_UTC.h5\",(531-0.25,537),(0,1000),[19.36,-99.187],1340]## 1340 metros\n",
    "fl57 = [\"/StorageCitlalli/DAS/DataCDMX/2023/132/SR_DS_2023-05-12_23-42-38_UTC.h5\",(254-0.25,260),(0,1000),[19.364,-99.18],998]## 998 metros\n",
    "fl58 = [\"/StorageCitlalli/DAS/DataCDMX/2023/132/SR_DS_2023-05-12_03-52-38_UTC.h5\",(533-0.5,539),(0,1000),[19.366,-99.187],1780]### 1780 metros ### (19.366\t-99.187)\n",
    "fl59 = [\"/StorageCitlalli/DAS/DataCDMX/2023/131/SR_DS_2023-05-11_16-52-38_UTC.h5\",(191-0.25,197),(0,1000),[19.365,-99.178],849]####  849 ### (19.365\t-99.178)\n",
    "fl60 = [\"/StorageCitlalli/DAS/DataCDMX/2023/131/SR_DS_2023-05-11_15-52-38_UTC.h5\",(333,339),(50,1000),[19.367,-99.182],1320] #6--- 1320 metros a la fibra (19.367\t-99.182) \n",
    "fl61 = [\"/StorageCitlalli/DAS/DataCDMX/2023/131/SR_DS_2023-05-11_15-22-38_UTC.h5\", (167+0.25,173),(0,1000),[19.366,-99.185],1570] #3--  1570metros a la fibra (19.366\t-99.185)\n",
    "fl62 = [\"/StorageCitlalli/DAS/DataCDMX/2023/131/SR_DS_2023-05-11_15-02-38_UTC.h5\",(159,165),(50,1000),[19.365,-99.178],850]## 1--850 metros a la fibra (19.365\t-99.178)\n",
    "fl63 = [\"/StorageCitlalli/DAS/DataCDMX/2023/131/SR_DS_2023-05-11_14-42-38_UTC.h5\",(65-0.5,71),(50,1000),[19.366,-99.183],1380]##5--- 1380 metros a la fibra (19.366\t-99.183)\n",
    "fl64 = [\"/StorageCitlalli/DAS/DataCDMX/2023/131/SR_DS_2023-05-11_14-32-38_UTC.h5\",(352,358),(50,1000),[19.368,-99.183],1470]#4-- 1470 metros a la fibra (19.368\t-99.183) \n",
    "fl65 = [\"/StorageCitlalli/DAS/DataCDMX/2023/131/SR_DS_2023-05-11_13-52-38_UTC.h5\",(299,335),(150,1000),[19.368,-99.167],35]#6-- 35 metros a la fibra (19.368\t-99.167)\n",
    "fl66 = [\"/StorageCitlalli/DAS/DataCDMX/2023/131/SR_DS_2023-05-11_13-22-38_UTC.h5\",(155-0.6,161),(0,1000),[19.359,-99.172],9]#3--- 9 metros de la fibra (19.359\t-99.172)\n",
    "fl67 = [\"/StorageCitlalli/DAS/DataCDMX/2023/131/SR_DS_2023-05-11_07-42-38_UTC.h5\",(47-0.75,53),(50,1000),[19.37,-99.186],1850] ## 1850 metros a la fibra \n",
    "fl68 = [\"/StorageCitlalli/DAS/DataCDMX/2023/131/SR_DS_2023-05-11_04-32-38_UTC.h5\",(137-0.5,143),(50,1000),[19.371130055166887,-99.189522765432570],2230 ]  ## 2230 metros a la fibra \n",
    "fl68_2 = [\"/StorageCitlalli/DAS/DataCDMX/2023/131/SR_DS_2023-05-11_04-32-38_UTC.h5\",(477-0.75,483),(0,1000), [19.363184865248062, -99.195016492787060], 2180 ] #2180 metros a la fibra\n",
    "fl69 = [\"/StorageCitlalli/DAS/DataCDMX/2023/131/SR_DS_2023-05-11_04-22-38_UTC.h5\", (202+2,208),(0,1000),[19.364016359088264,-99.177275788150060],737] #3 ## 737 metros a la fibra \n",
    "fl70 = [\"/StorageCitlalli/DAS/DataCDMX/2023/131/SR_DS_2023-05-11_04-12-38_UTC.h5\",(461,467),(0,1000),[19.367270670249365,-99.190179901398800],2120] # #2120 metros a la fibra \n",
    "fl75 = ['/StorageCitlalli/DAS/DataCDMX/2023/53/SR_DS_2023-02-22_00-18-41_UTC.h5',(255-0.25,261),(0,1000),[19.359110877786797,-99.175365106720800], 339] ## 339 metros a la fibra\n",
    "fl33 = [\"/StorageCitlalli/DAS/DataCDMX/2022/322/SR_DS_2022-11-18_23-43-22_UTC.h5\", (57,63),(1266,2266), [19.510886371061563,-99.137333916429610], 53 ] ## por allá en atzcapoltz\n",
    "fl38 = [\"/StorageCitlalli/DAS/DataCDMX/2022/198/SR_DS_2022-07-17_22-18-28_UTC.h5\", (198,203),(0,1000),[19.322798859355316,-99.177562268662040], 73] # 73 metros de la fibra  # segun hoja de excel el hipo es [19.283,-99.066] a 7.560 km de segunda fibra y 12 km de primera fibra  << # \n",
    "\n"
   ]
  },
  {
   "cell_type": "code",
   "execution_count": 5,
   "id": "379d083e-a7a6-4ba4-b7b0-33bb107fb84e",
   "metadata": {
    "ExecuteTime": {
     "end_time": "2025-01-24T00:13:52.262139Z",
     "start_time": "2025-01-24T00:13:51.713591Z"
    }
   },
   "outputs": [
    {
     "name": "stderr",
     "output_type": "stream",
     "text": [
      "2025-01-23 18:13:51.737378: W tensorflow/stream_executor/platform/default/dso_loader.cc:64] Could not load dynamic library 'libcuda.so.1'; dlerror: libcuda.so.1: cannot open shared object file: No such file or directory; LD_LIBRARY_PATH: /opt/gridengine/lib/lx-amd64:/opt/openmpi/lib\n",
      "2025-01-23 18:13:51.737422: W tensorflow/stream_executor/cuda/cuda_driver.cc:263] failed call to cuInit: UNKNOWN ERROR (303)\n",
      "2025-01-23 18:13:51.737448: I tensorflow/stream_executor/cuda/cuda_diagnostics.cc:156] kernel driver does not appear to be running on this host (compute-0-4.local): /proc/driver/nvidia/version does not exist\n",
      "2025-01-23 18:13:51.737949: I tensorflow/core/platform/cpu_feature_guard.cc:193] This TensorFlow binary is optimized with oneAPI Deep Neural Network Library (oneDNN) to use the following CPU instructions in performance-critical operations:  AVX2 AVX512F AVX512_VNNI FMA\n",
      "To enable them in other operations, rebuild TensorFlow with the appropriate compiler flags.\n"
     ]
    }
   ],
   "source": [
    "\n",
    "## convertir a herencia de Model\n",
    "class modeloFH(tf.keras.Model):\n",
    "    def __init__(self):\n",
    "        super(modeloFH, self).__init__()\n",
    "        #creating layers in initializer\n",
    "        self.conv1 = Conv2D(filters=16, kernel_size=(3,3), padding=\"same\", activation=\"relu\")\n",
    "\n",
    "        self.drop1 = Dropout(0.2)\n",
    "\n",
    "        \n",
    "        \n",
    "        self.conv2 = Conv2D(filters=16, kernel_size=(3,3), padding=\"same\")#, activation=\"relu\")\n",
    "        self.bt1 = BatchNormalization()#activation=\"relu\")\n",
    "        self.rl1 = Activation('relu')\n",
    "        self.drop2 = Dropout(0.2)\n",
    "        self.conv3 = Conv2D(filters=16, kernel_size=(3,3), strides=(2, 2), padding=\"valid\")\n",
    "\n",
    "        \n",
    "        self.conv4 = Conv2D(filters=32, kernel_size=(3,3), padding=\"same\")#, activation=\"relu\")\n",
    "        self.bt2 = BatchNormalization()\n",
    "        self.rl2 = Activation('relu')\n",
    "        self.drop3 = Dropout(0.2)\n",
    "        self.conv5 = Conv2D(filters=32, kernel_size=(3,3), strides=(2, 2), padding=\"valid\")\n",
    "\n",
    "\n",
    "        self.conv6 = Conv2D(filters=32, kernel_size=(3,3), padding=\"same\")#, activation=\"relu\")\n",
    "        self.bt3 = BatchNormalization()\n",
    "        self.rl3 = Activation('relu')\n",
    "        self.drop4 = Dropout(0.2)\n",
    "        self.conv7 = Conv2D(filters=32, kernel_size=(3,3), strides=(2, 2), padding=\"valid\")\n",
    "\n",
    "        self.conv8 = Conv2D(filters=64, kernel_size=(3,3), padding=\"same\")#, activation=\"relu\")\n",
    "        self.bt4 = BatchNormalization()\n",
    "        self.rl4 = Activation('relu')\n",
    "        self.drop5 = Dropout(0.2)\n",
    "        self.conv9 = Conv2D(filters=64, kernel_size=(3,3), strides=(2, 2), padding=\"valid\")\n",
    "\n",
    "        \n",
    "        \n",
    "  \n",
    "        self.flatten = Flatten()\n",
    "        self.fc1 = Dense(units=64)#, activation=\"relu\")\n",
    "        self.drop6 = Dropout(0.4)\n",
    "        self.rl5 = Activation('relu')\n",
    "\n",
    "        self.fc2 = Dense(units = 1, activation=\"sigmoid\")#(units = 1, activation=\"sigmoid\")\n",
    "\n",
    "\n",
    "    def call(self, input_tensor):\n",
    "        x = self.conv1(input_tensor)\n",
    "        x = self.drop1(x)\n",
    "        x = self.conv2(x)\n",
    "        x = self.bt1(x)\n",
    "        x = self.rl1(x)\n",
    "        x = self.drop2(x)\n",
    "        x = self.conv3(x)\n",
    "        \n",
    "        x = self.conv4(x)\n",
    "        x = self.bt2(x)\n",
    "        x = self.rl2(x)\n",
    "        x = self.drop3(x)\n",
    "        x = self.conv5(x)\n",
    "        x = self.conv6(x)\n",
    "        x = self.bt3(x)\n",
    "        x = self.rl3(x)\n",
    "        x = self.drop4(x)\n",
    "        x = self.conv7(x)\n",
    "        x = self.conv8(x)\n",
    "        x = self.bt4(x)\n",
    "        x = self.rl4(x)\n",
    "        x = self.drop5(x)\n",
    "        x = self.conv9(x)\n",
    "       \n",
    "        x = self.flatten(x)\n",
    "        x = self.fc1(x)\n",
    "        x = self.drop6(x)\n",
    "        x = self.rl5(x)\n",
    "        x = self.fc2(x)\n",
    "        return x\n",
    "\n",
    "input_layer = Input(shape=(1000, 120, 1,))\n",
    "x = modeloFH()(input_layer)\n",
    "model = Model(inputs=input_layer, outputs=x)\n",
    "\n",
    "\n",
    "\n"
   ]
  },
  {
   "cell_type": "code",
   "execution_count": null,
   "id": "d5222acd-6f3d-4b07-8b91-a780191ad3e3",
   "metadata": {},
   "outputs": [],
   "source": []
  },
  {
   "cell_type": "code",
   "execution_count": 6,
   "id": "25068750-7c6b-41e7-9a26-d4dfd91f7561",
   "metadata": {
    "ExecuteTime": {
     "end_time": "2025-01-24T00:14:45.222531Z",
     "start_time": "2025-01-24T00:13:52.265298Z"
    }
   },
   "outputs": [],
   "source": [
    "######## ######## ######### #########\n",
    "### #### #### #### #### #### #### ###\n",
    "\n",
    "###  Todos los conjuntos empleados hasta el momento, que han producido los mejores resultados en evaluaciones independientes\n",
    "##\n",
    "# Horizontales  \n",
    "# Vertical \n",
    "# Ruido  \n",
    "# time shift\n",
    "\n",
    "\n",
    "######## ######## ######### #########\n",
    "### #### #### #### #### #### #### ###\n",
    "####################### 13 de marzo 2024, 10 abril 2024\n",
    "##\n",
    "\n",
    "\n",
    "\n",
    "hf = h5py.File('/home/aortiza/CDMX/DataAugmentation/X_event_H.h5', 'r') \n",
    "\n",
    "X_event_H =  hf.get('dataset_1')\n",
    "\n",
    "X_event_H = np.array(X_event_H)\n",
    "\n",
    "hf.close()\n",
    "\n",
    "X_event_HCp = X_event_H.copy()\n",
    "\n",
    "### normalizar usando min max por renglón en X_events, que significa considerando todo el parche de cada 6segs. \n",
    "##de cada ejemplo\n",
    "\n",
    "for i,signal in enumerate(X_event_H):\n",
    "    MEAN = signal.mean()\n",
    "    STD = signal.std()\n",
    "    \n",
    "    X_event_HCp[i] = (signal-MEAN)/(STD)\n",
    "   \n",
    "del(X_event_H)\n",
    "\n",
    "\n",
    "\n",
    "\n"
   ]
  },
  {
   "cell_type": "code",
   "execution_count": 7,
   "id": "d513d9d0-a738-4f5f-bfcf-2f8119758873",
   "metadata": {
    "ExecuteTime": {
     "end_time": "2025-01-24T00:14:45.231164Z",
     "start_time": "2025-01-24T00:14:45.226067Z"
    }
   },
   "outputs": [],
   "source": [
    "X_event_HCp = X_event_HCp[-3000:,:]"
   ]
  },
  {
   "cell_type": "code",
   "execution_count": 35,
   "id": "c61a46c9-7056-4e91-b0f5-a8ec516773af",
   "metadata": {
    "ExecuteTime": {
     "end_time": "2025-02-09T05:48:14.408387Z",
     "start_time": "2025-02-09T05:46:18.992983Z"
    }
   },
   "outputs": [],
   "source": [
    "\n",
    "hf = h5py.File('/home/aortiza/CDMX/DataAugmentation/X_event_V.h5', 'r') \n",
    "\n",
    "X_event_V =  hf.get('dataset_1')\n",
    "\n",
    "X_event_V = np.array(X_event_V)\n",
    "\n",
    "hf.close()\n",
    "\n",
    "X_event_VCp = X_event_V.copy()\n",
    "\n",
    "### normalizar usando min max por renglón en X_events, que significa considerando todo el parche de cada 6segs. \n",
    "##de cada ejemplo\n",
    "\n",
    "for i,signal in enumerate(X_event_V):\n",
    "    MEAN = signal.mean()\n",
    "    STD = signal.std()\n",
    "    \n",
    "    X_event_VCp[i] = (signal-MEAN)/(STD)\n",
    "   \n",
    "del(X_event_V)"
   ]
  },
  {
   "cell_type": "code",
   "execution_count": 9,
   "id": "3c41ad18-59e5-4cec-8813-8c5f2958418e",
   "metadata": {
    "ExecuteTime": {
     "end_time": "2025-01-24T00:15:56.636653Z",
     "start_time": "2025-01-24T00:15:56.632742Z"
    }
   },
   "outputs": [],
   "source": [
    "X_event_VCp = X_event_VCp[-3000:,:]"
   ]
  },
  {
   "cell_type": "code",
   "execution_count": 10,
   "id": "f4cbf3f2-a22e-461a-bf5a-620cefb1ab75",
   "metadata": {
    "ExecuteTime": {
     "end_time": "2025-01-24T00:15:56.648215Z",
     "start_time": "2025-01-24T00:15:56.638720Z"
    }
   },
   "outputs": [
    {
     "data": {
      "text/plain": [
       "(3000, 120000)"
      ]
     },
     "execution_count": 10,
     "metadata": {},
     "output_type": "execute_result"
    }
   ],
   "source": [
    "X_event_HCp.shape"
   ]
  },
  {
   "cell_type": "code",
   "execution_count": 11,
   "id": "fbdeb52c-5da0-455d-a247-f61850c2611f",
   "metadata": {
    "ExecuteTime": {
     "end_time": "2025-01-24T00:15:56.656403Z",
     "start_time": "2025-01-24T00:15:56.652069Z"
    }
   },
   "outputs": [
    {
     "data": {
      "text/plain": [
       "(3000, 120000)"
      ]
     },
     "execution_count": 11,
     "metadata": {},
     "output_type": "execute_result"
    }
   ],
   "source": [
    "X_event_VCp.shape"
   ]
  },
  {
   "cell_type": "code",
   "execution_count": 12,
   "id": "f8ed61c2-bffd-44ab-a7d8-5128e20ddb16",
   "metadata": {
    "ExecuteTime": {
     "end_time": "2025-01-24T00:15:58.744500Z",
     "start_time": "2025-01-24T00:15:56.657942Z"
    }
   },
   "outputs": [],
   "source": [
    "X_signal1 = np.append(X_event_HCp,X_event_VCp,axis=0)\n"
   ]
  },
  {
   "cell_type": "code",
   "execution_count": 13,
   "id": "7c350ea3-157d-47fd-bc08-7755e4ea4da1",
   "metadata": {
    "ExecuteTime": {
     "end_time": "2025-01-24T00:15:58.752117Z",
     "start_time": "2025-01-24T00:15:58.746912Z"
    }
   },
   "outputs": [
    {
     "data": {
      "text/plain": [
       "(6000, 120000)"
      ]
     },
     "execution_count": 13,
     "metadata": {},
     "output_type": "execute_result"
    }
   ],
   "source": [
    "X_signal1.shape"
   ]
  },
  {
   "cell_type": "code",
   "execution_count": 14,
   "id": "0894a82d-5dc9-4edd-a5e5-1f3ff9c5d977",
   "metadata": {
    "ExecuteTime": {
     "end_time": "2025-01-24T00:15:58.758202Z",
     "start_time": "2025-01-24T00:15:58.754334Z"
    }
   },
   "outputs": [],
   "source": [
    "XtrainSets = [\"/X_NoiseCummulative10.h5\",\"/X_NoiseCummulative5.h5\",\"/X_NoiseCummulative4.h5\",\"/X_snr3_5orMore.h5\",\"/X_NoiseCummulative3.h5\",\"/X_snr2_5orMore.h5\",\"/X_NoiseCummulative2.h5\"\n",
    ",\"/X_snr1_5orMore.h5\",\"/X_NoiseCummulative1.h5\",\"/X_snr085orMore.h5\",\"/X_snr075orMore.h5\"\n",
    ",\"/X_snr06orMore.h5\",\"/X_NoiseCummulative05.h5\", \"/X_snr04orMore.h5\",\"/X_snr03orMore.h5\",\"/X_snr02orMore.h5\",\"/X_NoiseCummulative01.h5\"]\n",
    " \n",
    "    \n",
    "#XtrainSets = [\"/X_snr06orMore.h5\"]"
   ]
  },
  {
   "cell_type": "code",
   "execution_count": 15,
   "id": "3adeeab4-cb5a-45fa-a5a8-5970122c646a",
   "metadata": {
    "ExecuteTime": {
     "end_time": "2025-01-24T00:15:58.765728Z",
     "start_time": "2025-01-24T00:15:58.760610Z"
    }
   },
   "outputs": [
    {
     "data": {
      "text/plain": [
       "17"
      ]
     },
     "execution_count": 15,
     "metadata": {},
     "output_type": "execute_result"
    }
   ],
   "source": [
    "len(XtrainSets[:])"
   ]
  },
  {
   "cell_type": "code",
   "execution_count": 16,
   "id": "5b9a60db-e162-4dd1-b5da-5b03ef265e44",
   "metadata": {
    "ExecuteTime": {
     "end_time": "2025-01-24T00:15:58.772399Z",
     "start_time": "2025-01-24T00:15:58.768170Z"
    }
   },
   "outputs": [
    {
     "data": {
      "text/plain": [
       "['/X_NoiseCummulative05.h5',\n",
       " '/X_snr04orMore.h5',\n",
       " '/X_snr03orMore.h5',\n",
       " '/X_snr02orMore.h5',\n",
       " '/X_NoiseCummulative01.h5']"
      ]
     },
     "execution_count": 16,
     "metadata": {},
     "output_type": "execute_result"
    }
   ],
   "source": [
    "XtrainSets[12:]"
   ]
  },
  {
   "cell_type": "code",
   "execution_count": 17,
   "id": "a1272da0-2af6-46f8-8068-e8e948086f0d",
   "metadata": {
    "ExecuteTime": {
     "end_time": "2025-01-24T00:16:16.047492Z",
     "start_time": "2025-01-24T00:15:58.774597Z"
    }
   },
   "outputs": [],
   "source": [
    "### Ruido\n",
    "#### Cargar conjunto de entrenamiento con ruido\n",
    "#X_flashH60.h5\n",
    "\n",
    "hf = h5py.File('/home/aortiza/CDMX/DataAugmentation/X_flashH60.h5', 'r')\n",
    "\n",
    "X_flash = hf.get('dataset_1')\n",
    "\n",
    "X_flash = np.array(X_flash)\n",
    "\n",
    "hf.close()\n",
    "X_flashCp = X_flash.copy()\n",
    "\n",
    "for i,evento in enumerate(X_flash):\n",
    "    MEAN = evento.mean()\n",
    "    STD = evento.std()\n",
    "    \n",
    "    X_flashCp[i] = (evento-MEAN)/(STD)\n",
    "del(X_flash)  \n",
    "\n",
    "\n",
    "\n"
   ]
  },
  {
   "cell_type": "code",
   "execution_count": 18,
   "id": "601bafba-08da-4bcc-b451-131493c570f8",
   "metadata": {
    "ExecuteTime": {
     "end_time": "2025-01-24T00:16:20.868416Z",
     "start_time": "2025-01-24T00:16:16.049650Z"
    }
   },
   "outputs": [],
   "source": [
    "hf = h5py.File('/home/aortiza/CDMX/DataAugmentation/X_microV50Metro12Aug.h5', 'r')\n",
    "\n",
    "X_metroAug = hf.get('dataset_1')\n",
    "\n",
    "X_metroAug = np.array(X_metroAug)\n",
    "\n",
    "hf.close()\n",
    "X_metroAugCp = X_metroAug.copy()\n",
    "\n",
    "for i,evento in enumerate(X_metroAug):\n",
    "    MEAN = evento.mean()\n",
    "    STD = evento.std()\n",
    "    \n",
    "    X_metroAugCp[i] = (evento-MEAN)/(STD)\n",
    "del(X_metroAug)  "
   ]
  },
  {
   "cell_type": "code",
   "execution_count": 19,
   "id": "107ddcb9-f400-47c2-aca4-171c87323581",
   "metadata": {
    "ExecuteTime": {
     "end_time": "2025-01-24T00:16:24.933070Z",
     "start_time": "2025-01-24T00:16:20.870404Z"
    }
   },
   "outputs": [],
   "source": [
    "hf = h5py.File('X_data_Noise_Test.h5', 'r')\n",
    "\n",
    "X_noMicroTest =  hf.get('dataset_1')\n",
    "\n",
    "X_noMicroTest = np.array(X_noMicroTest)\n",
    "\n",
    "hf.close()"
   ]
  },
  {
   "cell_type": "code",
   "execution_count": 20,
   "id": "52aba238-b6ed-4acd-94e2-980ea7f5e229",
   "metadata": {
    "ExecuteTime": {
     "end_time": "2025-01-24T00:16:25.270739Z",
     "start_time": "2025-01-24T00:16:24.936460Z"
    }
   },
   "outputs": [],
   "source": [
    "### conjunto para test de snr  \n",
    "\n",
    "\n",
    "\n",
    "hf = h5py.File('/home/aortiza/CDMX/PrepararConjuntos/X_test_snr.h5', 'r') \n",
    "\n",
    "X_NoiseTest =  hf.get('dataset_1')\n",
    "\n",
    "X_NoiseTest = np.array(X_NoiseTest)\n",
    "\n",
    "hf.close()\n",
    "\n",
    "X_NoiseTestCp = X_NoiseTest.copy()\n",
    "\n",
    "### normalizar usando min max por renglón en X_events, que significa considerando todo el parche de cada 6segs. \n",
    "##de cada ejemplo\n",
    "\n",
    "for i,signal in enumerate(X_NoiseTest):\n",
    "    MEAN = signal.mean()\n",
    "    STD = signal.std()\n",
    "    \n",
    "    X_NoiseTestCp[i] = (signal-MEAN)/(STD)\n",
    "    \n",
    "del(X_NoiseTest)\n",
    "\n",
    "\n",
    "\n"
   ]
  },
  {
   "cell_type": "code",
   "execution_count": 21,
   "id": "2fb97e8e-c36f-4bcc-8871-d3d8b14ad04d",
   "metadata": {
    "ExecuteTime": {
     "end_time": "2025-01-24T00:16:25.279835Z",
     "start_time": "2025-01-24T00:16:25.274749Z"
    }
   },
   "outputs": [],
   "source": [
    "\n",
    "valSet = np.zeros((7,2),dtype=float)## primer índice para TP segundo indice para TN\n"
   ]
  },
  {
   "cell_type": "code",
   "execution_count": 22,
   "id": "dfb38ca9-75cd-46d0-97da-9f6fedb65d92",
   "metadata": {
    "ExecuteTime": {
     "end_time": "2025-01-24T00:16:48.742553Z",
     "start_time": "2025-01-24T00:16:25.283412Z"
    }
   },
   "outputs": [],
   "source": [
    "\n",
    "\n",
    "hf = h5py.File('/home/aortiza/CDMX/Repositorio de ruido/X_data_Noise.h5', 'r')\n",
    "\n",
    "X_ruido =  hf.get('dataset_1')\n",
    "\n",
    "X_ruido = np.array(X_ruido)\n",
    "\n",
    "hf.close()\n",
    "\n",
    "X_ruidoCp = X_ruido.copy()\n",
    "### normalizar usando min max por renglón en X_events, que significa considerando todo el parche de cada 6segs. \n",
    "##de cada ejemplo\n",
    "\n",
    "for i,ruido in enumerate(X_ruido):\n",
    "    MEAN = ruido.mean()\n",
    "    STD = ruido.std()\n",
    "    \n",
    "    X_ruidoCp[i] = (ruido-MEAN)/(STD)\n",
    "del(X_ruido)   \n",
    "\n",
    "## ruido de Metro\n",
    "\n",
    "hf = h5py.File('/home/aortiza/CDMX/Repositorio de ruido/X_data_Noise_Metro.h5', 'r')\n",
    "\n",
    "X_ruidoMetro =  hf.get('dataset_1')\n",
    "\n",
    "X_ruidoMetro = np.array(X_ruidoMetro)\n",
    "\n",
    "hf.close()\n",
    "X_ruidoMetroCp = X_ruidoMetro.copy()\n",
    "\n",
    "for i,ruidillo in enumerate(X_ruidoMetro):\n",
    "    MEAN = ruido.mean()\n",
    "    STD = ruido.std()\n",
    "    \n",
    "    X_ruidoMetroCp[i] = (ruido-MEAN)/(STD)\n",
    "   \n",
    "del(X_ruidoMetro)"
   ]
  },
  {
   "cell_type": "code",
   "execution_count": 23,
   "id": "f08cb955-8d94-45a5-b4e7-cffba749333a",
   "metadata": {
    "ExecuteTime": {
     "end_time": "2025-01-24T00:16:54.982586Z",
     "start_time": "2025-01-24T00:16:48.744548Z"
    }
   },
   "outputs": [],
   "source": [
    "\n",
    "X_ruidoTrain = np.append(X_ruidoCp,X_ruidoMetroCp,axis=0)\n",
    "\n",
    "X_ruidoTrain = np.append(X_ruidoTrain,X_metroAugCp,axis=0)\n",
    "X_ruidoTrain = np.append(X_ruidoTrain,X_flashCp,axis=0)\n",
    "del(X_ruidoCp,X_metroAugCp,X_ruidoMetroCp,X_flashCp)\n",
    "\n"
   ]
  },
  {
   "cell_type": "code",
   "execution_count": 24,
   "id": "72efea98-013d-4608-983e-71de3cb30710",
   "metadata": {
    "ExecuteTime": {
     "end_time": "2025-01-24T00:16:54.988812Z",
     "start_time": "2025-01-24T00:16:54.984515Z"
    }
   },
   "outputs": [
    {
     "data": {
      "text/plain": [
       "(8720, 120000)"
      ]
     },
     "execution_count": 24,
     "metadata": {},
     "output_type": "execute_result"
    }
   ],
   "source": [
    "X_ruidoTrain.shape"
   ]
  },
  {
   "cell_type": "code",
   "execution_count": null,
   "id": "037a051d-0573-46c1-91d7-bbbf6498179c",
   "metadata": {},
   "outputs": [],
   "source": []
  },
  {
   "cell_type": "code",
   "execution_count": 25,
   "id": "3d5f1512-cea0-4dc3-9c90-b03345db659b",
   "metadata": {
    "ExecuteTime": {
     "end_time": "2025-01-24T00:16:54.995681Z",
     "start_time": "2025-01-24T00:16:54.990142Z"
    }
   },
   "outputs": [],
   "source": [
    "### Etiquetas\n",
    "X_label_1_all = np.ones((9000),dtype=int)\n",
    "\n",
    "#X_label_0 = np.zeros((X_ruidoCp.shape[0])+(X_ruidoMetroCp.shape[0])+(X_flashCp.shape[0]), dtype=int )  ### Labels deben ser enteras int\n",
    "X_label_0 = np.zeros((8720), dtype=int ) \n"
   ]
  },
  {
   "cell_type": "code",
   "execution_count": null,
   "id": "36fdf0c6-5021-4d7b-a38f-8148a99fdd99",
   "metadata": {},
   "outputs": [],
   "source": []
  },
  {
   "cell_type": "code",
   "execution_count": null,
   "id": "2dff551a-83a6-4f26-9804-55120f9609c9",
   "metadata": {},
   "outputs": [],
   "source": []
  },
  {
   "cell_type": "code",
   "execution_count": null,
   "id": "c6982891-e13b-4690-91f5-014034c43516",
   "metadata": {
    "ExecuteTime": {
     "start_time": "2025-01-24T00:13:41.449Z"
    }
   },
   "outputs": [
    {
     "name": "stdout",
     "output_type": "stream",
     "text": [
      "/home/aortiza/CDMX/PrepararConjuntos/X_NoiseCummulative10.h5\n",
      "Epoch 1/40\n",
      "527/527 [==============================] - 386s 730ms/step - loss: 0.4685 - accuracy: 0.7374 - val_loss: 0.0014 - val_accuracy: 1.0000\n",
      "Epoch 2/40\n",
      "527/527 [==============================] - 396s 752ms/step - loss: 0.1038 - accuracy: 0.9606 - val_loss: 0.0149 - val_accuracy: 0.9955\n",
      "Epoch 3/40\n",
      "527/527 [==============================] - 386s 733ms/step - loss: 0.0558 - accuracy: 0.9794 - val_loss: 0.0743 - val_accuracy: 0.9661\n",
      "Epoch 4/40\n",
      "527/527 [==============================] - 398s 755ms/step - loss: 0.0318 - accuracy: 0.9894 - val_loss: 0.0621 - val_accuracy: 0.9707\n",
      "Epoch 5/40\n",
      "527/527 [==============================] - 387s 735ms/step - loss: 0.0264 - accuracy: 0.9904 - val_loss: 0.3768 - val_accuracy: 0.9063\n",
      "Epoch 6/40\n",
      "527/527 [==============================] - 384s 729ms/step - loss: 0.0215 - accuracy: 0.9929 - val_loss: 0.0682 - val_accuracy: 0.9740\n",
      "Epoch 7/40\n",
      "527/527 [==============================] - 387s 734ms/step - loss: 0.0167 - accuracy: 0.9938 - val_loss: 0.4683 - val_accuracy: 0.8747\n",
      "Epoch 8/40\n",
      "527/527 [==============================] - 389s 738ms/step - loss: 0.0147 - accuracy: 0.9943 - val_loss: 0.4337 - val_accuracy: 0.8973\n",
      "Epoch 9/40\n",
      "527/527 [==============================] - 398s 756ms/step - loss: 0.0148 - accuracy: 0.9946 - val_loss: 0.2765 - val_accuracy: 0.9289\n",
      "Epoch 10/40\n",
      "527/527 [==============================] - 405s 769ms/step - loss: 0.0101 - accuracy: 0.9958 - val_loss: 0.3475 - val_accuracy: 0.9255\n",
      "Epoch 11/40\n",
      "527/527 [==============================] - 412s 781ms/step - loss: 0.0104 - accuracy: 0.9961 - val_loss: 0.0165 - val_accuracy: 0.9898\n",
      "1/1 [==============================] - 0s 398ms/step\n",
      "tPos = 7, fNeg = 11\n",
      "32/32 [==============================] - 4s 128ms/step\n",
      "tNeg = 972, fPos = 28\n",
      "/home/aortiza/CDMX/PrepararConjuntos/X_NoiseCummulative5.h5\n",
      "Epoch 1/40\n",
      "527/527 [==============================] - 376s 711ms/step - loss: 0.5366 - accuracy: 0.6884 - val_loss: 0.0177 - val_accuracy: 0.9932\n",
      "Epoch 2/40\n",
      "527/527 [==============================] - 367s 697ms/step - loss: 0.1268 - accuracy: 0.9535 - val_loss: 0.0614 - val_accuracy: 0.9876\n",
      "Epoch 3/40\n",
      "527/527 [==============================] - 360s 683ms/step - loss: 0.0499 - accuracy: 0.9832 - val_loss: 0.0486 - val_accuracy: 0.9819\n",
      "Epoch 4/40\n",
      "527/527 [==============================] - 358s 679ms/step - loss: 0.0293 - accuracy: 0.9912 - val_loss: 0.0301 - val_accuracy: 0.9887\n",
      "Epoch 5/40\n",
      "527/527 [==============================] - 359s 681ms/step - loss: 0.0203 - accuracy: 0.9929 - val_loss: 0.0181 - val_accuracy: 0.9932\n",
      "Epoch 6/40\n",
      "527/527 [==============================] - 358s 680ms/step - loss: 0.0194 - accuracy: 0.9929 - val_loss: 0.7598 - val_accuracy: 0.7743\n",
      "Epoch 7/40\n",
      "527/527 [==============================] - 354s 671ms/step - loss: 0.0136 - accuracy: 0.9957 - val_loss: 0.3820 - val_accuracy: 0.8950\n",
      "Epoch 8/40\n",
      "527/527 [==============================] - 354s 672ms/step - loss: 0.0112 - accuracy: 0.9957 - val_loss: 0.0638 - val_accuracy: 0.9831\n",
      "Epoch 9/40\n",
      "527/527 [==============================] - 357s 677ms/step - loss: 0.0106 - accuracy: 0.9957 - val_loss: 0.2769 - val_accuracy: 0.9413\n",
      "Epoch 10/40\n",
      "527/527 [==============================] - 354s 672ms/step - loss: 0.0091 - accuracy: 0.9971 - val_loss: 0.5599 - val_accuracy: 0.8589\n",
      "Epoch 11/40\n",
      "527/527 [==============================] - 354s 672ms/step - loss: 0.0124 - accuracy: 0.9966 - val_loss: 0.1191 - val_accuracy: 0.9740\n",
      "1/1 [==============================] - 0s 321ms/step\n",
      "tPos = 17, fNeg = 1\n",
      "32/32 [==============================] - 3s 93ms/step\n",
      "tNeg = 962, fPos = 38\n",
      "/home/aortiza/CDMX/PrepararConjuntos/X_NoiseCummulative4.h5\n",
      "Epoch 1/40\n",
      "527/527 [==============================] - 396s 749ms/step - loss: 0.6440 - accuracy: 0.5968 - val_loss: 1.8263 - val_accuracy: 0.2923\n",
      "Epoch 2/40\n",
      "527/527 [==============================] - 381s 722ms/step - loss: 0.1569 - accuracy: 0.9398 - val_loss: 0.2507 - val_accuracy: 0.8939\n",
      "Epoch 3/40\n",
      "527/527 [==============================] - 384s 728ms/step - loss: 0.0570 - accuracy: 0.9783 - val_loss: 0.3750 - val_accuracy: 0.8555\n",
      "Epoch 4/40\n",
      "527/527 [==============================] - 386s 732ms/step - loss: 0.0341 - accuracy: 0.9875 - val_loss: 0.5256 - val_accuracy: 0.8442\n",
      "Epoch 5/40\n",
      "527/527 [==============================] - 384s 729ms/step - loss: 0.0237 - accuracy: 0.9920 - val_loss: 0.2275 - val_accuracy: 0.9312\n",
      "Epoch 6/40\n",
      "527/527 [==============================] - 389s 737ms/step - loss: 0.0174 - accuracy: 0.9939 - val_loss: 0.1141 - val_accuracy: 0.9594\n",
      "Epoch 7/40\n",
      "527/527 [==============================] - 390s 740ms/step - loss: 0.0121 - accuracy: 0.9962 - val_loss: 0.1202 - val_accuracy: 0.9661\n",
      "Epoch 8/40\n",
      "527/527 [==============================] - 390s 740ms/step - loss: 0.0126 - accuracy: 0.9960 - val_loss: 0.6866 - val_accuracy: 0.8375\n",
      "Epoch 9/40\n",
      "527/527 [==============================] - 388s 736ms/step - loss: 0.0115 - accuracy: 0.9955 - val_loss: 0.2102 - val_accuracy: 0.9650\n",
      "Epoch 10/40\n",
      "527/527 [==============================] - 391s 741ms/step - loss: 0.0086 - accuracy: 0.9974 - val_loss: 0.2366 - val_accuracy: 0.9357\n",
      "Epoch 11/40\n",
      "527/527 [==============================] - 394s 748ms/step - loss: 0.0105 - accuracy: 0.9966 - val_loss: 0.1376 - val_accuracy: 0.9582\n",
      "Epoch 12/40\n",
      "527/527 [==============================] - 395s 750ms/step - loss: 0.0074 - accuracy: 0.9973 - val_loss: 0.1406 - val_accuracy: 0.9729\n",
      "Epoch 13/40\n",
      "527/527 [==============================] - 400s 759ms/step - loss: 0.0070 - accuracy: 0.9978 - val_loss: 0.1439 - val_accuracy: 0.9774\n",
      "Epoch 14/40\n",
      "527/527 [==============================] - 404s 766ms/step - loss: 0.0054 - accuracy: 0.9982 - val_loss: 0.0014 - val_accuracy: 1.0000\n",
      "Epoch 15/40\n",
      "527/527 [==============================] - 408s 774ms/step - loss: 0.0072 - accuracy: 0.9977 - val_loss: 0.2410 - val_accuracy: 0.9571\n",
      "Epoch 16/40\n",
      "527/527 [==============================] - 406s 771ms/step - loss: 0.0042 - accuracy: 0.9986 - val_loss: 0.0645 - val_accuracy: 0.9808\n",
      "Epoch 17/40\n",
      "527/527 [==============================] - 404s 767ms/step - loss: 0.0049 - accuracy: 0.9986 - val_loss: 0.0956 - val_accuracy: 0.9740\n",
      "Epoch 18/40\n",
      "527/527 [==============================] - 406s 770ms/step - loss: 0.0056 - accuracy: 0.9983 - val_loss: 0.6635 - val_accuracy: 0.9074\n",
      "Epoch 19/40\n",
      "527/527 [==============================] - 405s 768ms/step - loss: 0.0031 - accuracy: 0.9992 - val_loss: 0.0051 - val_accuracy: 1.0000\n",
      "Epoch 20/40\n",
      "527/527 [==============================] - 406s 771ms/step - loss: 0.0025 - accuracy: 0.9993 - val_loss: 0.4576 - val_accuracy: 0.9436\n",
      "Epoch 21/40\n",
      "527/527 [==============================] - 401s 760ms/step - loss: 0.0032 - accuracy: 0.9988 - val_loss: 0.1720 - val_accuracy: 0.9797\n",
      "Epoch 22/40\n",
      "527/527 [==============================] - 403s 766ms/step - loss: 0.0065 - accuracy: 0.9982 - val_loss: 2.5737 - val_accuracy: 0.7528\n",
      "Epoch 23/40\n",
      "527/527 [==============================] - 404s 766ms/step - loss: 0.0026 - accuracy: 0.9995 - val_loss: 0.4630 - val_accuracy: 0.9470\n",
      "Epoch 24/40\n",
      "527/527 [==============================] - 408s 774ms/step - loss: 0.0018 - accuracy: 0.9992 - val_loss: 0.5917 - val_accuracy: 0.9244\n",
      "1/1 [==============================] - 0s 264ms/step\n",
      "tPos = 18, fNeg = 0\n",
      "32/32 [==============================] - 4s 121ms/step\n",
      "tNeg = 959, fPos = 41\n",
      "/home/aortiza/CDMX/PrepararConjuntos/X_snr3_5orMore.h5\n",
      "Epoch 1/40\n",
      "221/527 [===========>..................] - ETA: 3:47 - loss: 0.6984 - accuracy: 0.5598"
     ]
    }
   ],
   "source": [
    "## lista de conjuntos sobre los que vamos a iterar:\n",
    "\n",
    "\n",
    "\n",
    "data_dir = pathlib.Path(\"/home/aortiza/CDMX/PrepararConjuntos/\")\n",
    "for j,file in enumerate(XtrainSets[:6]):\n",
    "    print(str(data_dir)+file)\n",
    "    \n",
    "    h5 = h5py.File(str(data_dir)+file,'r')\n",
    "\n",
    "    data =  h5.get('dataset_1')\n",
    "\n",
    "    data = np.array(data)\n",
    "\n",
    "    h5.close()\n",
    "\n",
    "    X_signal = np.append(X_signal1,data.reshape(3000,120000),axis=0)\n",
    "    \n",
    "    input_layer = Input(shape=(1000, 120, 1,))\n",
    "    x = modeloFH()(input_layer)\n",
    "    model = Model(inputs=input_layer, outputs=x)\n",
    "\n",
    "\n",
    "\n",
    "    callback = tf.keras.callbacks.EarlyStopping(monitor='val_accuracy', patience=10)\n",
    "\n",
    "    model.compile(optimizer=Adam(learning_rate=1e-4),loss='binary_crossentropy',#tf.keras.losses.SparseCategoricalCrossentropy(from_logits=True),\n",
    "              metrics=['accuracy']) ## usar metrica precision. Pero mejor Matthews  \n",
    "\n",
    "\n",
    "\n",
    "#history = model.fit(np.append(compM( X_event_V30Cp,6), compM(X_ruidoCp[:1100],6),axis=0).reshape(2200,1000,120), np.append(len(X_label_1_all[:1100])*[(1,0)], len(X_label_0[:1100])*[(0,1)],axis=0), #(X_label_1_all[:]), (X_label_0[:]),axis=0\n",
    "                    \n",
    "\n",
    "\n",
    "#history = model.fit(np.append(compM(np.append(X_event_V90Cp,X_event_V100Cp,axis=0),6), compM(np.append(X_ruidoCp[:],X_metroAugCp,axis=0),6),axis=0).reshape(5200,1000,120), np.append(len(X_label_1_all[:2200])*[(1,0)], (3000)*[(0,1)],axis=0),\n",
    "\n",
    "\n",
    "#history = model.fit(np.append(compM(np.append(X_event_V70Cp,X_event_V80Cp,axis=0),4), compM(np.append(X_ruidoCp[:],X_metroAugCp,axis=0),4),axis=0).reshape(5200,1000,120), np.append(X_label_1_all[:2200], X_label_0,axis=0),\n",
    "                       \n",
    "#history = model.fit(np.append(stdTrace(np.append(X_event_V130Cp,X_event_V120Cp,axis=0)), stdTrace(np.append(X_ruidoCp[:],X_metroAugCp,axis=0)),axis=0).reshape(5200,1000,120), np.append(X_label_1_all[:2200], X_label_0,axis=0),\n",
    "                     \n",
    "    history = model.fit(np.append(compM(X_signal.reshape(9000,120000),4), compM(X_ruidoTrain,4),axis=0).reshape(9000+8720,1000,120), np.append(X_label_1_all, X_label_0,axis=0),\n",
    "                     \n",
    "                   \n",
    "#history = model.fit(np.append( (X_NoiseCp,2).reshape(3000,1000*120), compM(X_ruidoTrain,2),axis=0).reshape(7186,1000,120), np.append(len(X_label_1_all[:3000])*[(1,0)], len(X_label_0[:4186])*[(0,1)],axis=0),\n",
    "\n",
    "#history = model.fit(np.append( (X_NoiseCp[900*13:900*14]).reshape(900,1000*120), X_ruidoTrain,axis=0).reshape(5086,1000,120), np.append(len(X_label_1_all[:900])*[(1,0)], len(X_label_0[:4186])*[(0,1)],axis=0),\n",
    "\n",
    "            #batch_size=8,\n",
    "              #epochs=nb_epoch,\n",
    "              callbacks=[callback],\n",
    "              validation_split=0.05,\n",
    "              epochs=40,\n",
    "              shuffle=True,\n",
    "              verbose=1)\n",
    "        ##### Evaluar modelo en \n",
    "            \n",
    "                #3600-360+i*10+8\n",
    "    microTest = model.predict(compM((X_NoiseTestCp).reshape(18,1000,120),4))\n",
    "    tPos = 0\n",
    "    fNeg = 0\n",
    "        \n",
    "        \n",
    "    for i in microTest:\n",
    "            #if i.argmax() == 0:\n",
    "        if i[0] >= 0.999:\n",
    "            tPos +=1\n",
    "        else:\n",
    "            fNeg+=1\n",
    "    print(\"tPos = \"+str(tPos)+', '+\"fNeg = \"+str(fNeg))\n",
    "        \n",
    "            #print(i.argmax())\n",
    "        \n",
    "        \n",
    "            \n",
    "        \n",
    "    #noMicroTest = model.predict(stdTrace(X_noMicroTest.reshape(1000,1000,120)))   \n",
    "    noMicroTest = model.predict(compM(X_noMicroTest.reshape(1000,1000,120),4)) \n",
    "        #noMicroTest = model.predict(OB(X_noMicroTest[0:1000].reshape(1000,1000,120))) \n",
    "        #noMicroTest = model.predict(maxGlob(X_nomicroTest).reshape(1000,1000,120)) \n",
    "        #noMicroTest = model.predict((X_nomicroTest).reshape(1000,1000,120)) \n",
    "    tNeg = 0\n",
    "    fPos = 0\n",
    "        \n",
    "    for i in noMicroTest:\n",
    "            #if i.argmax() == 1:\n",
    "        if i[0] <= 0.999:\n",
    "            tNeg +=1\n",
    "        else:\n",
    "            fPos+=1\n",
    "    print(\"tNeg = \"+str(tNeg)+', '+\"fPos = \"+str(fPos))\n",
    "        \n",
    "    valSet[j,0] = tPos\n",
    "\n",
    "    valSet[j,1] = tNeg  \n",
    "    \n",
    "    \n",
    "    \n",
    "    del(model)\n"
   ]
  },
  {
   "cell_type": "code",
   "execution_count": 27,
   "id": "8a8f19a6-fde5-45b0-9af0-c5e687d8b600",
   "metadata": {
    "ExecuteTime": {
     "end_time": "2025-01-20T14:19:48.463904Z",
     "start_time": "2025-01-20T14:19:48.450222Z"
    }
   },
   "outputs": [
    {
     "data": {
      "text/plain": [
       "array([[ 17., 995.],\n",
       "       [ 17., 954.],\n",
       "       [ 15., 914.],\n",
       "       [ 16., 990.],\n",
       "       [ 17., 975.],\n",
       "       [  0.,   0.],\n",
       "       [  0.,   0.]])"
      ]
     },
     "execution_count": 27,
     "metadata": {},
     "output_type": "execute_result"
    }
   ],
   "source": [
    "valSet# [12:17]"
   ]
  },
  {
   "cell_type": "code",
   "execution_count": null,
   "id": "ea285f50",
   "metadata": {},
   "outputs": [],
   "source": [
    "[6:12]\n",
    "\n",
    "array([[  13.,  765.],\n",
    "       [  14.,  831.],\n",
    "       [  18.,  960.],\n",
    "       [  15.,  983.],\n",
    "       [  16., 1000.],\n",
    "       [  17.,  975.]])"
   ]
  },
  {
   "cell_type": "code",
   "execution_count": 29,
   "id": "b2248d88",
   "metadata": {
    "ExecuteTime": {
     "end_time": "2025-01-21T01:15:05.773824Z",
     "start_time": "2025-01-21T01:15:05.759292Z"
    }
   },
   "outputs": [
    {
     "data": {
      "text/plain": [
       "array([[ 15., 994.],\n",
       "       [ 15., 916.],\n",
       "       [ 18., 937.],\n",
       "       [ 15., 960.],\n",
       "       [ 15., 985.],\n",
       "       [  0.,   0.],\n",
       "       [  0.,   0.]])"
      ]
     },
     "execution_count": 29,
     "metadata": {},
     "output_type": "execute_result"
    }
   ],
   "source": [
    "[6:12]\n",
    "\n",
    "valSet"
   ]
  },
  {
   "cell_type": "code",
   "execution_count": 30,
   "id": "524a896f",
   "metadata": {
    "ExecuteTime": {
     "end_time": "2025-01-21T01:15:36.012188Z",
     "start_time": "2025-01-21T01:15:36.001285Z"
    }
   },
   "outputs": [
    {
     "data": {
      "text/plain": [
       "['/X_NoiseCummulative2.h5',\n",
       " '/X_snr1_5orMore.h5',\n",
       " '/X_NoiseCummulative1.h5',\n",
       " '/X_snr085orMore.h5',\n",
       " '/X_snr075orMore.h5',\n",
       " '/X_snr06orMore.h5']"
      ]
     },
     "execution_count": 30,
     "metadata": {},
     "output_type": "execute_result"
    }
   ],
   "source": [
    "XtrainSets[6:12]"
   ]
  },
  {
   "cell_type": "code",
   "execution_count": 34,
   "id": "a96f7d44",
   "metadata": {
    "ExecuteTime": {
     "end_time": "2025-01-21T01:54:32.984949Z",
     "start_time": "2025-01-21T01:54:32.975454Z"
    }
   },
   "outputs": [
    {
     "data": {
      "text/plain": [
       "'/X_snr06orMore.h5'"
      ]
     },
     "execution_count": 34,
     "metadata": {},
     "output_type": "execute_result"
    }
   ],
   "source": [
    "XtrainSets[11]"
   ]
  },
  {
   "cell_type": "code",
   "execution_count": 32,
   "id": "16850a6d",
   "metadata": {
    "ExecuteTime": {
     "end_time": "2025-01-21T01:47:10.833591Z",
     "start_time": "2025-01-21T01:47:10.823979Z"
    }
   },
   "outputs": [
    {
     "data": {
      "text/plain": [
       "array([[ 15., 994.],\n",
       "       [ 15., 916.],\n",
       "       [ 18., 937.],\n",
       "       [ 15., 960.],\n",
       "       [ 15., 985.],\n",
       "       [  0.,   0.],\n",
       "       [  0.,   0.]])"
      ]
     },
     "execution_count": 32,
     "metadata": {},
     "output_type": "execute_result"
    }
   ],
   "source": [
    "\n",
    "valSet"
   ]
  },
  {
   "cell_type": "code",
   "execution_count": 26,
   "id": "6f4d0915",
   "metadata": {
    "ExecuteTime": {
     "end_time": "2025-01-21T04:27:19.811438Z",
     "start_time": "2025-01-21T04:27:19.794781Z"
    }
   },
   "outputs": [
    {
     "data": {
      "text/plain": [
       "array([[ 18., 940.],\n",
       "       [  0.,   0.],\n",
       "       [  0.,   0.],\n",
       "       [  0.,   0.],\n",
       "       [  0.,   0.],\n",
       "       [  0.,   0.],\n",
       "       [  0.,   0.]])"
      ]
     },
     "execution_count": 26,
     "metadata": {},
     "output_type": "execute_result"
    }
   ],
   "source": [
    "valSet"
   ]
  },
  {
   "cell_type": "code",
   "execution_count": 32,
   "id": "459f3abb",
   "metadata": {
    "ExecuteTime": {
     "end_time": "2025-01-21T20:49:48.233283Z",
     "start_time": "2025-01-21T20:49:48.222870Z"
    }
   },
   "outputs": [
    {
     "data": {
      "text/plain": [
       "array([[ 18., 926.],\n",
       "       [ 17., 857.],\n",
       "       [ 18., 836.],\n",
       "       [ 15., 968.],\n",
       "       [ 16., 692.],\n",
       "       [ 17., 953.],\n",
       "       [  0.,   0.]])"
      ]
     },
     "execution_count": 32,
     "metadata": {},
     "output_type": "execute_result"
    }
   ],
   "source": [
    "valSet"
   ]
  },
  {
   "cell_type": "code",
   "execution_count": 31,
   "id": "23f942d2",
   "metadata": {
    "ExecuteTime": {
     "end_time": "2025-01-22T06:22:51.151241Z",
     "start_time": "2025-01-22T06:22:51.137746Z"
    }
   },
   "outputs": [
    {
     "data": {
      "text/plain": [
       "array([[  18.,  989.],\n",
       "       [  15., 1000.],\n",
       "       [  16., 1000.],\n",
       "       [  15.,  998.],\n",
       "       [  17.,  976.],\n",
       "       [   0.,    0.],\n",
       "       [   0.,    0.]])"
      ]
     },
     "execution_count": 31,
     "metadata": {},
     "output_type": "execute_result"
    }
   ],
   "source": [
    "valSet"
   ]
  },
  {
   "cell_type": "code",
   "execution_count": 34,
   "id": "3c0f0d51",
   "metadata": {
    "ExecuteTime": {
     "end_time": "2025-01-23T18:46:46.531743Z",
     "start_time": "2025-01-23T18:46:46.518615Z"
    }
   },
   "outputs": [
    {
     "data": {
      "text/plain": [
       "['/X_NoiseCummulative05.h5',\n",
       " '/X_snr04orMore.h5',\n",
       " '/X_snr03orMore.h5',\n",
       " '/X_snr02orMore.h5',\n",
       " '/X_NoiseCummulative01.h5']"
      ]
     },
     "execution_count": 34,
     "metadata": {},
     "output_type": "execute_result"
    }
   ],
   "source": [
    "XtrainSets[12:]"
   ]
  },
  {
   "cell_type": "code",
   "execution_count": 37,
   "id": "8c1c7eab",
   "metadata": {
    "ExecuteTime": {
     "end_time": "2025-01-24T00:09:23.103933Z",
     "start_time": "2025-01-24T00:09:23.093315Z"
    }
   },
   "outputs": [
    {
     "data": {
      "text/plain": [
       "array([[ 18., 515.],\n",
       "       [ 14., 991.],\n",
       "       [ 15., 964.],\n",
       "       [ 14., 944.],\n",
       "       [ 14., 955.],\n",
       "       [ 16., 997.],\n",
       "       [  0.,   0.]])"
      ]
     },
     "execution_count": 37,
     "metadata": {},
     "output_type": "execute_result"
    }
   ],
   "source": [
    "valSet #[12:]"
   ]
  },
  {
   "cell_type": "code",
   "execution_count": null,
   "id": "17c0d6f8",
   "metadata": {
    "ExecuteTime": {
     "end_time": "2025-01-23T23:33:10.794532Z",
     "start_time": "2025-01-23T23:33:10.784064Z"
    }
   },
   "outputs": [],
   "source": []
  },
  {
   "cell_type": "code",
   "execution_count": null,
   "id": "559d3883",
   "metadata": {},
   "outputs": [],
   "source": []
  }
 ],
 "metadata": {
  "kernelspec": {
   "display_name": "Python 3 (ipykernel)",
   "language": "python",
   "name": "python3"
  },
  "language_info": {
   "codemirror_mode": {
    "name": "ipython",
    "version": 3
   },
   "file_extension": ".py",
   "mimetype": "text/x-python",
   "name": "python",
   "nbconvert_exporter": "python",
   "pygments_lexer": "ipython3",
   "version": "3.8.13"
  }
 },
 "nbformat": 4,
 "nbformat_minor": 5
}
